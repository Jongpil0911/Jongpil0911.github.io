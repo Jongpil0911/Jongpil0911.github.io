{
 "cells": [
  {
   "metadata": {},
   "cell_type": "markdown",
   "source": "# Chapter 1. Continuous signal",
   "id": "4f85c5a28f40679d"
  },
  {
   "metadata": {},
   "cell_type": "markdown",
   "source": "### 1.1 Signal and systems",
   "id": "d848319134785755"
  },
  {
   "metadata": {},
   "cell_type": "markdown",
   "source": "##### 1.1.1 Example of signal and systems\n",
   "id": "76751998664f6fed"
  },
  {
   "metadata": {},
   "cell_type": "code",
   "outputs": [],
   "execution_count": null,
   "source": "",
   "id": "c44ba0633ac89ffb"
  },
  {
   "cell_type": "code",
   "execution_count": null,
   "id": "initial_id",
   "metadata": {
    "collapsed": true
   },
   "outputs": [],
   "source": [
    ""
   ]
  }
 ],
 "metadata": {
  "kernelspec": {
   "display_name": "Python 3",
   "language": "python",
   "name": "python3"
  },
  "language_info": {
   "codemirror_mode": {
    "name": "ipython",
    "version": 2
   },
   "file_extension": ".py",
   "mimetype": "text/x-python",
   "name": "python",
   "nbconvert_exporter": "python",
   "pygments_lexer": "ipython2",
   "version": "2.7.6"
  }
 },
 "nbformat": 4,
 "nbformat_minor": 5
}
